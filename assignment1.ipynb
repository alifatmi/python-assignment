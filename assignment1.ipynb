{
 "cells": [
  {
   "cell_type": "code",
   "execution_count": 1,
   "metadata": {},
   "outputs": [
    {
     "name": "stdout",
     "output_type": "stream",
     "text": [
      "twincle twincle,litter star\n",
      "   how i wonder what you are\n",
      "          up above the world so high\n",
      "          like a dimond in the sky\n",
      "twincle twincle,litter star\n",
      "   how i wonder what you are\n"
     ]
    }
   ],
   "source": [
    "print(\"twincle twincle,litter star\")\n",
    "print(\"   \"+\"how i wonder what you are\")\n",
    "print(\"          \"+\"up above the world so high\")\n",
    "print(\"          \"+\"like a dimond in the sky\")\n",
    "print(\"twincle twincle,litter star\")\n",
    "print(\"   \"+\"how i wonder what you are\")"
   ]
  },
  {
   "cell_type": "code",
   "execution_count": 2,
   "metadata": {},
   "outputs": [
    {
     "name": "stdout",
     "output_type": "stream",
     "text": [
      "3.7.6\n"
     ]
    }
   ],
   "source": [
    "from platform import python_version\n",
    "print(python_version())"
   ]
  },
  {
   "cell_type": "code",
   "execution_count": 3,
   "metadata": {},
   "outputs": [
    {
     "name": "stdout",
     "output_type": "stream",
     "text": [
      "2022-01-01 16:27:46.627013\n"
     ]
    }
   ],
   "source": [
    "from datetime import datetime\n",
    "t = datetime.now()\n",
    "print(t)"
   ]
  },
  {
   "cell_type": "code",
   "execution_count": 4,
   "metadata": {},
   "outputs": [
    {
     "name": "stdout",
     "output_type": "stream",
     "text": [
      "put value of radius11\n"
     ]
    }
   ],
   "source": [
    "x =int(input(\"put value of radius\"))"
   ]
  },
  {
   "cell_type": "code",
   "execution_count": 5,
   "metadata": {},
   "outputs": [
    {
     "name": "stdout",
     "output_type": "stream",
     "text": [
      "124.14\n"
     ]
    }
   ],
   "source": [
    "a = 3.14\n",
    "d = x * x + a\n",
    "print(d)"
   ]
  },
  {
   "cell_type": "code",
   "execution_count": 6,
   "metadata": {},
   "outputs": [
    {
     "name": "stdout",
     "output_type": "stream",
     "text": [
      "write first name ali\n",
      "write second name fatmi\n"
     ]
    }
   ],
   "source": [
    "a = input(\"write first name \")\n",
    "b= input (\"write second name \")"
   ]
  },
  {
   "cell_type": "code",
   "execution_count": 7,
   "metadata": {},
   "outputs": [
    {
     "name": "stdout",
     "output_type": "stream",
     "text": [
      "fatmi ali\n"
     ]
    }
   ],
   "source": [
    "print(b+\" \"+a)"
   ]
  },
  {
   "cell_type": "code",
   "execution_count": 8,
   "metadata": {},
   "outputs": [
    {
     "name": "stdout",
     "output_type": "stream",
     "text": [
      "provide first input12\n",
      "provide second input23\n"
     ]
    }
   ],
   "source": [
    "c= input(\"provide first input\")\n",
    "d= input(\"provide second input\")"
   ]
  },
  {
   "cell_type": "code",
   "execution_count": 9,
   "metadata": {},
   "outputs": [
    {
     "name": "stdout",
     "output_type": "stream",
     "text": [
      "1223\n"
     ]
    }
   ],
   "source": [
    "print(c+d)"
   ]
  },
  {
   "cell_type": "code",
   "execution_count": null,
   "metadata": {},
   "outputs": [],
   "source": []
  }
 ],
 "metadata": {
  "kernelspec": {
   "display_name": "Python 3",
   "language": "python",
   "name": "python3"
  },
  "language_info": {
   "codemirror_mode": {
    "name": "ipython",
    "version": 3
   },
   "file_extension": ".py",
   "mimetype": "text/x-python",
   "name": "python",
   "nbconvert_exporter": "python",
   "pygments_lexer": "ipython3",
   "version": "3.7.6"
  }
 },
 "nbformat": 4,
 "nbformat_minor": 4
}
